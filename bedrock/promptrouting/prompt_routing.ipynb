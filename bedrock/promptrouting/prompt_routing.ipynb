{
 "cells": [
  {
   "cell_type": "code",
   "execution_count": null,
   "metadata": {},
   "outputs": [],
   "source": [
    "!pip install -r requirements.txt"
   ]
  },
  {
   "cell_type": "code",
   "execution_count": null,
   "metadata": {},
   "outputs": [],
   "source": [
    "import boto3\n",
    "import json\n",
    "\n",
    "region = 'us-east-1'\n",
    "aws = boto3.session.Session(profile_name='genaiday',region_name=region)\n",
    "client = aws.client('bedrock-runtime')\n",
    "\n",
    "def invocar_bedrock(prompt,modelId=\"anthropic.claude-3-haiku-20240307-v1:0\",showDebug=False):\n",
    "    config = {\n",
    "        \"anthropic_version\": \"bedrock-2023-05-31\",\n",
    "        \"max_tokens\": 4096,\n",
    "        \"messages\": [\n",
    "            {\n",
    "                \"role\": \"user\",\n",
    "                \"content\": [{\n",
    "                    \"type\": \"text\",\n",
    "                    \"text\": prompt\n",
    "                }]\n",
    "            }\n",
    "        ]\n",
    "    }\n",
    "\n",
    "    body = json.dumps(config)\n",
    "    modelId = modelId\n",
    "    accept = \"application/json\"\n",
    "    contentType = \"application/json\"\n",
    "\n",
    "    response = client.invoke_model(\n",
    "        body=body, modelId=modelId, accept=accept, contentType=contentType)\n",
    "    response_body = json.loads(response.get(\"body\").read())\n",
    "    if(showDebug):\n",
    "        print(response_body)\n",
    "    results = response_body.get(\"content\")[0].get(\"text\")\n",
    "    return results\n"
   ]
  },
  {
   "cell_type": "code",
   "execution_count": null,
   "metadata": {},
   "outputs": [],
   "source": [
    "prompt = \"Reescribe el siguiente texto de manera más formal: 'Hola, ¿me podrías mandar el informe cuando tengas tiempo? Gracias.'\"\n",
    "respuesta = invocar_bedrock(prompt, modelId=\"anthropic.claude-3-haiku-20240307-v1:0\")\n",
    "print(respuesta)"
   ]
  },
  {
   "cell_type": "code",
   "execution_count": null,
   "metadata": {},
   "outputs": [],
   "source": [
    "prompt_complejo = \"\"\"\n",
    "Eres un asistente virtual que tiene la tarea de planificar un itinerario de viaje de 10 días para un turista que quiere visitar las 5 ciudades más emblemáticas de Europa. Debes tener en cuenta factores como transporte, alojamiento, actividades y costos, y presentar el plan de manera detallada y organizada.\n",
    "\"\"\"\n",
    "respuesta_compleja = invocar_bedrock(prompt_complejo, modelId=\"anthropic.claude-3-5-sonnet-20240620-v1:0\")\n",
    "print(respuesta_compleja)"
   ]
  },
  {
   "cell_type": "code",
   "execution_count": null,
   "metadata": {},
   "outputs": [],
   "source": [
    "prompt_1 = \"Reescribe el siguiente texto de manera más formal: 'Hola, ¿me podrías mandar el informe cuando tengas tiempo? Gracias.'\"\n",
    "\n",
    "respuesta_1 = invocar_bedrock(prompt_1, modelId=\"arn:aws:bedrock:us-east-1:XXXXXXXX:default-prompt-router/anthropic.claude:1\",showDebug=True) #Reemplaza  XXXXX por tu numero de cuenta de AWS\n",
    "print(respuesta_1)\n"
   ]
  },
  {
   "cell_type": "code",
   "execution_count": null,
   "metadata": {},
   "outputs": [],
   "source": [
    "prompt_2 =  \"\"\"\n",
    "Eres un asistente virtual que tiene la tarea de planificar un itinerario de viaje de 10 días para un turista que quiere visitar las 5 ciudades más emblemáticas de Europa. Debes tener en cuenta factores como transporte, alojamiento, actividades y costos, y presentar el plan de manera detallada y organizada.\n",
    "\"\"\"\n",
    "respuesta_2 = invocar_bedrock(prompt_complejo, modelId=\"arn:aws:bedrock:us-east-1:XXXXXXX:default-prompt-router/anthropic.claude:1\",showDebug=True) #Reemplaza  XXXXX por tu numero de cuenta de AWS\n",
    "print(respuesta_2)"
   ]
  },
  {
   "cell_type": "code",
   "execution_count": null,
   "metadata": {},
   "outputs": [],
   "source": []
  }
 ],
 "metadata": {
  "kernelspec": {
   "display_name": "Python 3",
   "language": "python",
   "name": "python3"
  },
  "language_info": {
   "codemirror_mode": {
    "name": "ipython",
    "version": 3
   },
   "file_extension": ".py",
   "mimetype": "text/x-python",
   "name": "python",
   "nbconvert_exporter": "python",
   "pygments_lexer": "ipython3",
   "version": "3.12.8"
  }
 },
 "nbformat": 4,
 "nbformat_minor": 2
}
